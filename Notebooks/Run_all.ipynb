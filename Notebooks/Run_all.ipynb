{
 "cells": [
  {
   "cell_type": "code",
   "execution_count": 1,
   "id": "1ac1d04e",
   "metadata": {},
   "outputs": [],
   "source": [
    "import os, sys\n",
    "project_root = os.path.abspath(os.path.join(os.getcwd(), '..'))\n",
    "if project_root not in sys.path:\n",
    "    sys.path.insert(0, project_root)"
   ]
  },
  {
   "cell_type": "code",
   "execution_count": null,
   "id": "eca68388",
   "metadata": {},
   "outputs": [],
   "source": [
    "from pathlib import Path\n",
    "import cv2\n",
    "import numpy as np\n",
    "import pandas as pd\n",
    "\n",
    "from pathlib import Path\n",
    "from Utils.utils import generate_and_save_denoised_images"
   ]
  },
  {
   "cell_type": "code",
   "execution_count": null,
   "id": "aa214ca7",
   "metadata": {},
   "outputs": [],
   "source": [
    "def main(clean_images_dir, noisy_images_dir, output_dir):\n",
    "\n",
    "    clean_images_path = Path(clean_images_dir)\n",
    "    noisy_images_path = Path(noisy_images_dir)\n",
    "    output_path = Path(output_dir)\n",
    "\n",
    "    output_path.mkdir(parents=True, exist_ok=True)\n",
    "\n",
    "    rows = []\n",
    "    for clean_image_path in clean_images_path.glob('*.png'):\n",
    "        print(f\"Processing {clean_image_path}...\")\n",
    "        noisy_image_path = list(noisy_images_path.glob(f\"{clean_image_path.stem}*\"))[0]\n",
    "        if not noisy_image_path.exists():\n",
    "            print(f\"Noisy image for {clean_image_path} not found, skipping.\")\n",
    "            continue\n",
    "        denoised_image_paths = generate_and_save_denoised_images(str(noisy_image_path), str(output_path))\n",
    "        \n",
    "        clean_image = cv2.imread(str(clean_image_path), cv2.IMREAD_COLOR)\n",
    "        clean_image = cv2.cvtColor(clean_image, cv2.COLOR_BGR2RGB)\n",
    "        \n",
    "        row = {}\n",
    "        for name, path in (denoised_image_paths | {\"noisy\": noisy_image_path}).items():\n",
    "            image = cv2.imread(str(path), cv2.IMREAD_COLOR)\n",
    "            image = cv2.cvtColor(image, cv2.COLOR_BGR2RGB)\n",
    "            \n",
    "            l1 = np.mean(np.abs(     - image))\n",
    "            l2 = np.mean((clean_image - image) * (clean_image - image))\n",
    "            row[f\"{name}_l1\"] = l1\n",
    "            row[f\"{name}_l2\"] = l2\n",
    "        rows.append(row)\n",
    "        \n",
    "    df = pd.DataFrame(rows)\n",
    "    df.to_csv(output_path / 'denoising_results.csv', index=False)"
   ]
  },
  {
   "cell_type": "code",
   "execution_count": null,
   "id": "40e3affc",
   "metadata": {},
   "outputs": [
    {
     "name": "stdout",
     "output_type": "stream",
     "text": [
      "Processing ..\\Data\\Raw\\Just_one\\circle_1.png...\n",
      "✓ Completed: mmse_quad\n",
      "✓ Completed: mmse_potts\n",
      "✓ Completed: mape_sa_quad\n",
      "✓ Completed: mape_sa_potts\n",
      "Processing ..\\Data\\Raw\\Just_one\\circle_10.png...\n",
      "✓ Completed: mape_sa_quad\n",
      "✓ Completed: mmse_quad\n",
      "✓ Completed: mape_sa_potts\n",
      "✓ Completed: mmse_potts\n",
      "Processing ..\\Data\\Raw\\Just_one\\circle_2.png...\n"
     ]
    }
   ],
   "source": [
    "clean_images_dir = Path(\"../Data/Raw/Just_one\")\n",
    "noisy_images_dir = Path(\"../Data/Transformed/Just_one\")\n",
    "    \n",
    "main(clean_images_dir, noisy_images_dir, Path(\"outptut\"))"
   ]
  },
  {
   "cell_type": "code",
   "execution_count": null,
   "id": "c377085b",
   "metadata": {},
   "outputs": [],
   "source": []
  }
 ],
 "metadata": {
  "kernelspec": {
   "display_name": "base",
   "language": "python",
   "name": "python3"
  },
  "language_info": {
   "codemirror_mode": {
    "name": "ipython",
    "version": 3
   },
   "file_extension": ".py",
   "mimetype": "text/x-python",
   "name": "python",
   "nbconvert_exporter": "python",
   "pygments_lexer": "ipython3",
   "version": "3.13.2"
  }
 },
 "nbformat": 4,
 "nbformat_minor": 5
}
